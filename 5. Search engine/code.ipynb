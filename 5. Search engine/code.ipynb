{
 "cells": [
  {
   "cell_type": "code",
   "execution_count": 1,
   "metadata": {},
   "outputs": [],
   "source": [
    "import pandas as pd\n",
    "\n",
    "def load_data(path):  \n",
    "  dataframe = pd.read_csv(path)  \n",
    "  return dataframe"
   ]
  },
  {
   "cell_type": "code",
   "execution_count": null,
   "metadata": {},
   "outputs": [],
   "source": [
    "from sklearn.feature_extraction.text import TfidfVectorizer\n",
    "\n",
    "def tf_idf(search_keys, dataframe, label):\n",
    "  \n",
    "\ttfidf_vectorizer = TfidfVectorizer()\n",
    "\ttfidf_weights_matrix = tfidf_vectorizer.fit_transform(dataframe.loc[:, label])\n",
    "\tsearch_query_weights = tfidf_vectorizer.transform([search_keys])\n",
    "\t\n",
    "\treturn searh_query_weights, tfidf_weights_matrix"
   ]
  },
  {
   "cell_type": "code",
   "execution_count": null,
   "metadata": {},
   "outputs": [],
   "source": [
    "from sklearn.metrics.pairwise import cosine_similarity\n",
    "\n",
    "def cos_similarity(search_query_weights, tfidf_weights_matrix):\n",
    "\t\n",
    "\tcosine_distance = cosine_similarity(query, tfidf_matrix)\n",
    "\tsimilarity_list = cosine_distance[0]\n",
    "  \n",
    "\treturn similarity_list"
   ]
  },
  {
   "cell_type": "code",
   "execution_count": null,
   "metadata": {},
   "outputs": [],
   "source": [
    "import numpy as np\n",
    "\n",
    "def most_similar(similarity_list, min_talks=1):\n",
    "\t\n",
    "\tmost_similar= []\n",
    "  \n",
    "\twhile min_talks > 0:\n",
    "\t\ttmp_index = np.argmax(similarity_list)\n",
    "\t\tmost_similar.append(tmp_index)\n",
    "\t\tsimilarity_list[tmp_index] = 0\n",
    "\t\tmin_talks -= 1\n",
    "\n",
    "\treturn most_similar"
   ]
  },
  {
   "cell_type": "code",
   "execution_count": null,
   "metadata": {},
   "outputs": [],
   "source": []
  }
 ],
 "metadata": {
  "kernelspec": {
   "display_name": "Python 3",
   "language": "python",
   "name": "python3"
  },
  "language_info": {
   "codemirror_mode": {
    "name": "ipython",
    "version": 3
   },
   "file_extension": ".py",
   "mimetype": "text/x-python",
   "name": "python",
   "nbconvert_exporter": "python",
   "pygments_lexer": "ipython3",
   "version": "3.10.11"
  }
 },
 "nbformat": 4,
 "nbformat_minor": 2
}
